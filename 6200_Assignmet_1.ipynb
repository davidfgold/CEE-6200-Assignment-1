{
 "cells": [
  {
   "cell_type": "markdown",
   "metadata": {},
   "source": [
    "# CEE 6200 Assignment 1: Reservoir Mass Balance\n",
    "### Follow the steps below and insert your own code to complete this assignment"
   ]
  },
  {
   "cell_type": "code",
   "execution_count": 6,
   "metadata": {},
   "outputs": [],
   "source": [
    "# load relevant libraries\n",
    "import numpy as np\n",
    "import matplotlib\n",
    "from matplotlib import pyplot as plt"
   ]
  },
  {
   "cell_type": "code",
   "execution_count": 15,
   "metadata": {},
   "outputs": [],
   "source": [
    "# load flat river inflows (make sure this is in your working directory ie. the folder this file is saved in)\n",
    "i = np.loadtxt('flat-river-inflows.txt')"
   ]
  },
  {
   "cell_type": "markdown",
   "metadata": {},
   "source": [
    "#### 2a: Create a function to simulate a reservoir mass balance and use it to find the required storage capacity"
   ]
  },
  {
   "cell_type": "markdown",
   "metadata": {},
   "source": [
    "Create a simple function to simulate your reservoir this function takes two arguments, C: thereservoir capacity, i: a vector of inflows from the flat river and q: the demand. I've started the code below"
   ]
  },
  {
   "cell_type": "code",
   "execution_count": 93,
   "metadata": {},
   "outputs": [],
   "source": [
    "def simulate_reservoir (C, i, q):\n",
    "    \n",
    "    # initialize system parameters\n",
    "    S = np.zeros(len(i)) # initialize storage with a vector of zeros\n",
    "    S[0] = 114 # first month has a storage of 114\n",
    "    w = np.zeros(len(i))\n",
    "    failure = False # a variable to let you know if the simulation failed\n",
    "    \n",
    "    ############# add your code here ###################\n",
    "    \n",
    "    \n",
    "    \n",
    "    \n",
    "    \n",
    "    \n",
    "    \n",
    "    \n",
    "    \n",
    "    \n",
    "    \n",
    "    \n",
    "    ####################################################\n",
    "    \n",
    "    # freebee code to alert you of failure, make sure to set this above\n",
    "    if failure:\n",
    "        print('Failure!')\n",
    "    else:\n",
    "        print('Capacity of ' + str(C) + ' is big enough')\n",
    "    \n",
    "    return S"
   ]
  },
  {
   "cell_type": "markdown",
   "metadata": {},
   "source": [
    "Now use the variable C to test reservoir capacities"
   ]
  },
  {
   "cell_type": "code",
   "execution_count": 2,
   "metadata": {},
   "outputs": [],
   "source": [
    "# enter a value for C\n",
    "C = \n",
    "\n",
    "# test the capcity in your model, if you have failure try agian!\n",
    "S = simulate_reservoir (C, i, 1200)"
   ]
  },
  {
   "cell_type": "markdown",
   "metadata": {},
   "source": [
    "Plot the storage over time (this is how you make a basic line plot in python), another freebee, just run this snippet"
   ]
  },
  {
   "cell_type": "code",
   "execution_count": null,
   "metadata": {},
   "outputs": [],
   "source": [
    "# plot the storage over time\n",
    "t = range(0, len(inflows))\n",
    "fig = plt.figure()\n",
    "plt.plot(t, S)\n",
    "plt.ylim([0, 1.2*C])\n",
    "plt.xlim([0, len(inflows)])\n",
    "plt.xlabel('Simulation Month')\n",
    "plt.ylabel('Reservoir Storage (MG)')\n",
    "plt.show()"
   ]
  },
  {
   "cell_type": "markdown",
   "metadata": {},
   "source": [
    "#### 2b: Use the function you created above to determine the required capacities for demands ranging from 900 to 1500 in increments of 100"
   ]
  },
  {
   "cell_type": "markdown",
   "metadata": {},
   "source": [
    "Below I've initialized a vector to store demands. You can access a single demand like this: demands[0] (this would give a value of 900 in the vector below)."
   ]
  },
  {
   "cell_type": "code",
   "execution_count": 7,
   "metadata": {},
   "outputs": [],
   "source": [
    "demands = np.linspace(900, 1500, 7)"
   ]
  },
  {
   "cell_type": "markdown",
   "metadata": {},
   "source": [
    "Now use this vector to test capacities, fill in the vector below and add code to run each one through your simulation model"
   ]
  },
  {
   "cell_type": "code",
   "execution_count": 9,
   "metadata": {},
   "outputs": [],
   "source": [
    "capacities =\n",
    "\n",
    "############ add your code here ###########\n",
    "    \n",
    "    \n",
    "    \n",
    "    \n",
    "    \n",
    "    \n",
    "    \n",
    "    \n",
    "    \n",
    "    \n",
    "    \n",
    "\n",
    "###########################################"
   ]
  },
  {
   "cell_type": "markdown",
   "metadata": {},
   "source": [
    "Now let's plot demand vs. required capacities (this is how you make a basic scatter plot in python)"
   ]
  },
  {
   "cell_type": "code",
   "execution_count": 10,
   "metadata": {},
   "outputs": [],
   "source": [
    "fig = plt.figure()\n",
    "plt.scatter(demands, capacities)\n",
    "plt.xlabel('Required Capacity (MG)')\n",
    "plt.ylabel('Monthly demand (MGM)')\n",
    "plt.show()"
   ]
  },
  {
   "cell_type": "markdown",
   "metadata": {},
   "source": [
    "#### 2c. Update your model (create a new function) to record supply reliability of your reservoir"
   ]
  },
  {
   "cell_type": "code",
   "execution_count": 13,
   "metadata": {},
   "outputs": [],
   "source": [
    "############ add your code here ###########\n",
    "    \n",
    "    \n",
    "    \n",
    "    \n",
    "    \n",
    "    \n",
    "    \n",
    "    \n",
    "    \n",
    "    \n",
    "    \n",
    "\n",
    "###########################################"
   ]
  },
  {
   "cell_type": "code",
   "execution_count": 109,
   "metadata": {},
   "outputs": [],
   "source": [
    "# test several capacitity values\n",
    "test_capacities = np.linspace(4000, 8500, 11)\n",
    "reliabilities = np.zeros(len(test_capacities))\n",
    "\n",
    "for j in range(0, len(test_capacities)):\n",
    "    reliabilities[j] = sim_res_rel(test_capacities[j], i, 1200)"
   ]
  },
  {
   "cell_type": "markdown",
   "metadata": {},
   "source": [
    "Plot reliability vs. capacity, you make the plot for this one, follow examples above"
   ]
  },
  {
   "cell_type": "code",
   "execution_count": 12,
   "metadata": {},
   "outputs": [],
   "source": [
    "############ add your code here ###########\n",
    "    \n",
    "    \n",
    "    \n",
    "    \n",
    "    \n",
    "    \n",
    "    \n",
    "    \n",
    "    \n",
    "    \n",
    "    \n",
    "\n",
    "###########################################"
   ]
  }
 ],
 "metadata": {
  "kernelspec": {
   "display_name": "Python 3",
   "language": "python",
   "name": "python3"
  },
  "language_info": {
   "codemirror_mode": {
    "name": "ipython",
    "version": 3
   },
   "file_extension": ".py",
   "mimetype": "text/x-python",
   "name": "python",
   "nbconvert_exporter": "python",
   "pygments_lexer": "ipython3",
   "version": "3.7.4"
  }
 },
 "nbformat": 4,
 "nbformat_minor": 4
}
